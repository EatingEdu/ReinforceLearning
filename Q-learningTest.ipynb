{
 "cells": [
  {
   "cell_type": "code",
   "execution_count": 1,
   "metadata": {},
   "outputs": [],
   "source": [
    "import numpy as np\n",
    "import pandas as pd"
   ]
  },
  {
   "cell_type": "code",
   "execution_count": 2,
   "metadata": {},
   "outputs": [],
   "source": [
    "# coding:utf-8\n",
    "#from __future__ import print_function  # 必须放到开始\n",
    "import numpy as np\n",
    "import pandas as pd\n",
    "import time\n",
    "\n",
    "# 预设值\n",
    "N_STATES = 6  # 状态数量\n",
    "ACTIONS = ['left', 'right']  # 行为，两种。\n",
    "EPSILON = 0.9  # epsilon greedy，贪婪度\n",
    "ALPHA = 0.1  # 学习率\n",
    "GAMMA = 0.9  # 奖励递减值，也就是不重视奖励的程度\n",
    "MAX_EPISODES = 10  # 最大回合数\n",
    "FRESH_TIME = 0.1  # 每一帧画面停留时间"
   ]
  },
  {
   "cell_type": "code",
   "execution_count": 3,
   "metadata": {},
   "outputs": [],
   "source": [
    "# 初始化q_table\n",
    "def build_q_table():\n",
    "    q_table = pd.DataFrame(np.zeros((N_STATES, len(ACTIONS))), columns=ACTIONS)\n",
    "    return q_table"
   ]
  },
  {
   "cell_type": "code",
   "execution_count": 14,
   "metadata": {},
   "outputs": [
    {
     "data": {
      "text/plain": [
       "left     0.0\n",
       "right    0.0\n",
       "Name: 2, dtype: float64"
      ]
     },
     "execution_count": 14,
     "metadata": {},
     "output_type": "execute_result"
    }
   ],
   "source": [
    "s =q_table.iloc[2, :] \n",
    "s"
   ]
  },
  {
   "cell_type": "code",
   "execution_count": 15,
   "metadata": {},
   "outputs": [
    {
     "data": {
      "text/plain": [
       "0.09233899961749337"
      ]
     },
     "execution_count": 15,
     "metadata": {},
     "output_type": "execute_result"
    }
   ],
   "source": [
    "np.random.uniform()"
   ]
  },
  {
   "cell_type": "code",
   "execution_count": 16,
   "metadata": {},
   "outputs": [],
   "source": [
    "# 选择动作，action\n",
    "# 利用epsilon greedy选择a\n",
    "def choose_action(state, q_table):\n",
    "    state_actions = q_table.iloc[state, :]\n",
    "    if np.random.uniform() > EPSILON or is_all_zero(state_actions):#在某一概率或者在当前状态的移动没有转移概率的时候\n",
    "        action_name = np.random.choice(ACTIONS)                    #随机选择action\n",
    "    else:\n",
    "        action_name = state_actions.idxmax() #按照某一概率使用贪婪算法选择较大概率的动作作为action执行\n",
    "    return action_name  #action_name为left or right"
   ]
  },
  {
   "cell_type": "code",
   "execution_count": 17,
   "metadata": {
    "scrolled": true
   },
   "outputs": [
    {
     "data": {
      "text/html": [
       "<div>\n",
       "<style scoped>\n",
       "    .dataframe tbody tr th:only-of-type {\n",
       "        vertical-align: middle;\n",
       "    }\n",
       "\n",
       "    .dataframe tbody tr th {\n",
       "        vertical-align: top;\n",
       "    }\n",
       "\n",
       "    .dataframe thead th {\n",
       "        text-align: right;\n",
       "    }\n",
       "</style>\n",
       "<table border=\"1\" class=\"dataframe\">\n",
       "  <thead>\n",
       "    <tr style=\"text-align: right;\">\n",
       "      <th></th>\n",
       "      <th>left</th>\n",
       "      <th>right</th>\n",
       "    </tr>\n",
       "  </thead>\n",
       "  <tbody>\n",
       "    <tr>\n",
       "      <th>0</th>\n",
       "      <td>0.0</td>\n",
       "      <td>0.0</td>\n",
       "    </tr>\n",
       "    <tr>\n",
       "      <th>1</th>\n",
       "      <td>0.0</td>\n",
       "      <td>0.0</td>\n",
       "    </tr>\n",
       "    <tr>\n",
       "      <th>2</th>\n",
       "      <td>0.0</td>\n",
       "      <td>0.0</td>\n",
       "    </tr>\n",
       "    <tr>\n",
       "      <th>3</th>\n",
       "      <td>0.0</td>\n",
       "      <td>0.0</td>\n",
       "    </tr>\n",
       "    <tr>\n",
       "      <th>4</th>\n",
       "      <td>0.0</td>\n",
       "      <td>0.0</td>\n",
       "    </tr>\n",
       "    <tr>\n",
       "      <th>5</th>\n",
       "      <td>0.0</td>\n",
       "      <td>0.0</td>\n",
       "    </tr>\n",
       "  </tbody>\n",
       "</table>\n",
       "</div>"
      ],
      "text/plain": [
       "   left  right\n",
       "0   0.0    0.0\n",
       "1   0.0    0.0\n",
       "2   0.0    0.0\n",
       "3   0.0    0.0\n",
       "4   0.0    0.0\n",
       "5   0.0    0.0"
      ]
     },
     "execution_count": 17,
     "metadata": {},
     "output_type": "execute_result"
    }
   ],
   "source": [
    "q_table = build_q_table()\n",
    "q_table\n",
    "choose_action(0, q_table)\n",
    "q_table"
   ]
  },
  {
   "cell_type": "code",
   "execution_count": 8,
   "metadata": {},
   "outputs": [],
   "source": [
    "# 判断全零行\n",
    "def is_all_zero(series):\n",
    "    for s in series:\n",
    "        if s != 0:\n",
    "            return False\n",
    "    return True"
   ]
  },
  {
   "cell_type": "code",
   "execution_count": 18,
   "metadata": {},
   "outputs": [
    {
     "data": {
      "text/plain": [
       "True"
      ]
     },
     "execution_count": 18,
     "metadata": {},
     "output_type": "execute_result"
    }
   ],
   "source": [
    "is_all_zero(s)"
   ]
  },
  {
   "cell_type": "code",
   "execution_count": 10,
   "metadata": {},
   "outputs": [],
   "source": [
    "# 环境反馈\n",
    "# 执行走步操作，从(S, A)到S_状态，并获得奖励R\n",
    "# 得到S_、R\n",
    "#定义获取reword的反馈\n",
    "def get_env_feedback(state, action):\n",
    "    if action == 'right':\n",
    "        if state == N_STATES - 2:\n",
    "            next_state = 'terminal'\n",
    "            R = 1\n",
    "        else:\n",
    "            next_state = state + 1\n",
    "            R = 0\n",
    "    else:\n",
    "        if state == 0:  # 最左侧的state没有办法在进行移动，如果在state等于0的状态下仍然选择左移，则默认不改变state；todo why?将if state 改成 if state == 0 就没有bug了？而之前next_state会变成-1\n",
    "            next_state = state\n",
    "        else:\n",
    "            next_state = state - 1\n",
    "        R = 0\n",
    "    # print('\\nS: {}-{}-S\\': {}'.format(state, action, next_state))\n",
    "    return next_state, R"
   ]
  },
  {
   "cell_type": "code",
   "execution_count": 11,
   "metadata": {},
   "outputs": [],
   "source": [
    "\n",
    "# 环境更新\n",
    "# 每走完一步，要更新一帧图\n",
    "def update_env(state, episode, step_counter):\n",
    "    env_list = ['-'] * (N_STATES - 1) + ['T']\n",
    "    if state == 'terminal':\n",
    "        interaction = 'episode: %s; total_steps = %s' % (episode + 1, step_counter)  # fixme +1？？？\n",
    "        print('\\r{}'.format(interaction),end ='')  # \\r把之前打在屏幕上的信息给删掉了\n",
    "        time.sleep(2)\n",
    "        print('\\r                           ', end='')  # 清屏\n",
    "    else:\n",
    "        env_list[state] = 'o'\n",
    "#         print(env_list)\n",
    "        interaction = ''.join(env_list)\n",
    "        print('\\r{}'.format(interaction),\n",
    "              end='')  # end=''是Python3的内容，必须在文件导入的部分第一句位置写from __future__ import print_function\n",
    "        # \\r是回车，回到一行的开始\n",
    "        time.sleep(FRESH_TIME)"
   ]
  },
  {
   "cell_type": "code",
   "execution_count": 12,
   "metadata": {},
   "outputs": [
    {
     "name": "stdout",
     "output_type": "stream",
     "text": [
      "\r",
      "--o--T"
     ]
    }
   ],
   "source": [
    "state, episode, step_counter = 2,0,0\n",
    "update_env(state, episode, step_counter)"
   ]
  },
  {
   "cell_type": "code",
   "execution_count": 13,
   "metadata": {
    "scrolled": true
   },
   "outputs": [],
   "source": [
    "# q_learning\n",
    "def q_learing():\n",
    "    q_table = build_q_table()#初始化一个状态表\n",
    "    for episode in range(MAX_EPISODES):  # TODO 如果是判断Q阵收敛，可以判断reward不再发生变化\n",
    "        step_counter = 0  # 走的步数\n",
    "        state = 0\n",
    "        is_terminated = False  # 一局游戏结束的标志\n",
    "        update_env(state, episode, step_counter)\n",
    "        #print(is_terminated)\n",
    "        while not is_terminated:\n",
    "            action = choose_action(state, q_table)\n",
    "            # print('\\nS值: {}\\n'.format(state))\n",
    "            # print(action)\n",
    "            next_state, R = get_env_feedback(state, action)#与环境的交互\n",
    "            q_predict = q_table.loc[state, action]\n",
    "            #print(q_predict)\n",
    "            if next_state != 'terminal':\n",
    "                q_target = R + GAMMA * q_table.iloc[next_state, :].max() #没有到达终点，q = 奖励 + 学习率×下一状态的r最大值（下一状态的结果只与前一时刻状态有关）\n",
    "                #print(\"when the next_state is not terminal,the q_target is\".format(q_target))\n",
    "            else:\n",
    "                q_target = R  # 到终点直接拿糖\n",
    "                #print(\"when the next_state is terminal,the q_target is\".format(q_target))\n",
    "                is_terminated = True\n",
    "            #训练过程中，不断更新q_table表\n",
    "            q_table.loc[state, action] = q_predict + ALPHA * (q_target - q_predict) #当前状态的q值更新 = q的预测值+学习率×目标值与预测值的差值\n",
    "            # 如果不区分两种状态，是否可以如下写：\n",
    "            # q_table.loc[state, action] = (1 - ALPHA) * q_table.loc[state, action] + ALPHA * (\n",
    "            #         R + GAMMA * q_table.loc[next_state, :].max())\n",
    "            # print('\\nS\\'值: {}\\n'.format(state))\n",
    "            state = next_state\n",
    "            step_counter += 1\n",
    "            update_env(state, episode, step_counter)\n",
    "    return q_table"
   ]
  },
  {
   "cell_type": "code",
   "execution_count": null,
   "metadata": {},
   "outputs": [],
   "source": []
  },
  {
   "cell_type": "markdown",
   "metadata": {},
   "source": [
    "####  整体流程梳理：\n",
    "1. 初始化一个状态表；\n",
    "2. 在episode内进行状态转换（在每一次迭代过程中reward不在发生变化时，不再训练）；（重复步骤3，4,5）\n",
    "    3. 更新环境展示；\n",
    "    4. 当前状态不处于终止状态时,\n",
    "        选择动作->根据当前状态与动作从q根据反馈值，选择下一时刻状态与reward；\n",
    "        5. 从q表中根据当前状态与动作获取q值；\n",
    "        6. 根据当前状态获取q_tar的值。\n",
    "        7. 更新q表，（根据下一时刻的状态来更新当前的q值）\n",
    "        8. 更新状态和外部环境展示"
   ]
  },
  {
   "cell_type": "code",
   "execution_count": 18,
   "metadata": {},
   "outputs": [
    {
     "name": "stdout",
     "output_type": "stream",
     "text": [
      "                           6\n",
      "Q_Table:\n",
      "       left     right\n",
      "0  0.000103  0.001875\n",
      "1  0.000000  0.012989\n",
      "2  0.000083  0.063479\n",
      "3  0.002674  0.237511\n",
      "4  0.000000  0.651322\n",
      "5  0.000000  0.000000\n"
     ]
    }
   ],
   "source": [
    "if __name__ == '__main__':\n",
    "    q_table = q_learing()\n",
    "    print('\\nQ_Table:\\n{}'.format(q_table))"
   ]
  },
  {
   "cell_type": "code",
   "execution_count": null,
   "metadata": {},
   "outputs": [],
   "source": []
  }
 ],
 "metadata": {
  "kernelspec": {
   "display_name": "Python 3",
   "language": "python",
   "name": "python3"
  },
  "language_info": {
   "codemirror_mode": {
    "name": "ipython",
    "version": 3
   },
   "file_extension": ".py",
   "mimetype": "text/x-python",
   "name": "python",
   "nbconvert_exporter": "python",
   "pygments_lexer": "ipython3",
   "version": "3.6.10"
  }
 },
 "nbformat": 4,
 "nbformat_minor": 4
}
